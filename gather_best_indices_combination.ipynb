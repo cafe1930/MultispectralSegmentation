{
 "cells": [
  {
   "cell_type": "code",
   "execution_count": 3,
   "id": "bc06142c",
   "metadata": {},
   "outputs": [],
   "source": [
    "import pandas as pd\n",
    "import yaml\n",
    "import os\n",
    "import glob\n",
    "\n",
    "from tqdm import tqdm\n",
    "\n",
    "from matplotlib import pyplot as plt\n",
    "%matplotlib inline"
   ]
  },
  {
   "cell_type": "code",
   "execution_count": 6,
   "id": "3a125f6a",
   "metadata": {},
   "outputs": [
    {
     "name": "stderr",
     "output_type": "stream",
     "text": [
      "100%|██████████| 29/29 [00:01<00:00, 28.14it/s]\n"
     ]
    },
    {
     "data": {
      "text/plain": [
       "np.int64(166)"
      ]
     },
     "execution_count": 6,
     "metadata": {},
     "output_type": "execute_result"
    }
   ],
   "source": [
    "paths_to_results_csv_list = glob.glob(r'z:\\mikhail_u\\backups\\experiment_2025-0915T23-27-52\\*\\version_0\\*.csv')\n",
    "for path in tqdm(paths_to_results_csv_list):\n",
    "    results_df = pd.read_csv(path)\n",
    "    best_idx = results_df['val_iou_mean'].argmax()\n",
    "\n",
    "results_df['val_iou_mean'].argmax()"
   ]
  },
  {
   "cell_type": "code",
   "execution_count": null,
   "id": "4821ec35",
   "metadata": {},
   "outputs": [],
   "source": [
    "results_df[]"
   ]
  }
 ],
 "metadata": {
  "kernelspec": {
   "display_name": "deep_learning",
   "language": "python",
   "name": "python3"
  },
  "language_info": {
   "codemirror_mode": {
    "name": "ipython",
    "version": 3
   },
   "file_extension": ".py",
   "mimetype": "text/x-python",
   "name": "python",
   "nbconvert_exporter": "python",
   "pygments_lexer": "ipython3",
   "version": "3.12.9"
  }
 },
 "nbformat": 4,
 "nbformat_minor": 5
}
