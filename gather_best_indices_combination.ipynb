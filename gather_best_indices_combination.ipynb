{
 "cells": [
  {
   "cell_type": "code",
   "execution_count": 1,
   "id": "bc06142c",
   "metadata": {},
   "outputs": [],
   "source": [
    "import pandas as pd\n",
    "import yaml\n",
    "import os\n",
    "import glob\n",
    "\n",
    "from tqdm import tqdm\n",
    "\n",
    "from matplotlib import pyplot as plt\n",
    "%matplotlib inline"
   ]
  },
  {
   "cell_type": "code",
   "execution_count": null,
   "id": "3a125f6a",
   "metadata": {},
   "outputs": [
    {
     "name": "stderr",
     "output_type": "stream",
     "text": [
      "100%|██████████| 63/63 [00:11<00:00,  5.34it/s]\n"
     ]
    },
    {
     "data": {
      "text/plain": [
       "0.5027282238006592"
      ]
     },
     "execution_count": 16,
     "metadata": {},
     "output_type": "execute_result"
    }
   ],
   "source": [
    "paths_to_results_csv_list = glob.glob(r'z:\\mikhail_u\\backups\\experiment_2025-0915T23-27-52\\*\\version_0\\*.csv')\n",
    "all_results = {}\n",
    "for path_to_results in tqdm(paths_to_results_csv_list):\n",
    "    split_path = path_to_results.split(os.sep)\n",
    "    path_to_root = os.path.join(*split_path[:-2])\n",
    "    path_to_training_config = os.path.join(path_to_root, 'training_config.yaml')\n",
    "    with open(path_to_training_config) as fd:\n",
    "        training_config = yaml.load(fd, yaml.Loader)\n",
    "\n",
    "    multispecter_bands_indices = training_config['multispecter_bands_indices']\n",
    "    multispecter_bands_indices = tuple(multispecter_bands_indices)\n",
    "\n",
    "    results_df = pd.read_csv(path_to_results)\n",
    "    #best_idx = \n",
    "    best_results = results_df.loc[results_df['val_iou_mean'].argmax()]\n",
    "    best_mean_iou = best_results['val_iou_mean']\n",
    "    all_results[str(multispecter_bands_indices)] = best_mean_iou\n",
    "\n",
    "all_results = pd.Series(all_results)\n"
   ]
  },
  {
   "cell_type": "code",
   "execution_count": 19,
   "id": "bedd5df0",
   "metadata": {},
   "outputs": [
    {
     "data": {
      "text/plain": [
       "(1, 2, 3, 5, 7, 8, 11, 12)       0.478290\n",
       "(1, 2, 3, 4, 6, 7, 8, 11, 12)    0.481136\n",
       "(1, 2, 3, 7, 8, 11, 12)          0.481280\n",
       "(1, 2, 3, 5, 6, 7)               0.481987\n",
       "(1, 2, 3, 4, 7, 12)              0.482158\n",
       "                                   ...   \n",
       "(1, 2, 3, 4, 5, 6, 7, 11, 12)    0.500892\n",
       "(1, 2, 3, 5, 7, 12)              0.501343\n",
       "(1, 2, 3, 4, 7, 8, 12)           0.501387\n",
       "(1, 2, 3, 7)                     0.502400\n",
       "(1, 2, 3, 5, 7, 11, 12)          0.502728\n",
       "Length: 63, dtype: float64"
      ]
     },
     "execution_count": 19,
     "metadata": {},
     "output_type": "execute_result"
    }
   ],
   "source": [
    "all_results.sort_values()"
   ]
  },
  {
   "cell_type": "code",
   "execution_count": 8,
   "id": "4821ec35",
   "metadata": {},
   "outputs": [
    {
     "data": {
      "text/plain": [
       "(1, 2, 3, 7, 11, 12)"
      ]
     },
     "execution_count": 8,
     "metadata": {},
     "output_type": "execute_result"
    }
   ],
   "source": [
    "tuple(multispecter_bands_indices)"
   ]
  },
  {
   "cell_type": "code",
   "execution_count": 10,
   "id": "aeda2a87",
   "metadata": {},
   "outputs": [
    {
     "data": {
      "text/plain": [
       "epoch                                 66.000000\n",
       "step                                7101.000000\n",
       "train_iou_UNLABELED                         NaN\n",
       "train_iou_buildings_territory               NaN\n",
       "train_iou_mean                              NaN\n",
       "                                       ...     \n",
       "val_recall_quasi_natural_ground        0.079618\n",
       "val_recall_quasi_natural_grow          0.628829\n",
       "val_recall_quasi_natural_wetland       0.878893\n",
       "val_recall_transport                   0.639781\n",
       "val_recall_water                       0.951558\n",
       "Name: 132, Length: 76, dtype: float64"
      ]
     },
     "execution_count": 10,
     "metadata": {},
     "output_type": "execute_result"
    }
   ],
   "source": [
    "best_results"
   ]
  },
  {
   "cell_type": "code",
   "execution_count": null,
   "id": "7ae83eca",
   "metadata": {},
   "outputs": [],
   "source": []
  }
 ],
 "metadata": {
  "kernelspec": {
   "display_name": "deep_learning",
   "language": "python",
   "name": "python3"
  },
  "language_info": {
   "codemirror_mode": {
    "name": "ipython",
    "version": 3
   },
   "file_extension": ".py",
   "mimetype": "text/x-python",
   "name": "python",
   "nbconvert_exporter": "python",
   "pygments_lexer": "ipython3",
   "version": "3.12.9"
  }
 },
 "nbformat": 4,
 "nbformat_minor": 5
}
