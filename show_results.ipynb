{
 "cells": [
  {
   "cell_type": "code",
   "execution_count": 1,
   "metadata": {},
   "outputs": [],
   "source": [
    "import pandas as pd\n",
    "import os "
   ]
  },
  {
   "cell_type": "code",
   "execution_count": 2,
   "metadata": {},
   "outputs": [
    {
     "data": {
      "text/plain": [
       "epoch                                51.000000\n",
       "val_iou_UNLABELED                     0.786347\n",
       "val_iou_buildings_territory           0.758021\n",
       "val_iou_mean                          0.520549\n",
       "val_iou_natural_ground                0.209921\n",
       "val_iou_natural_grow                  0.217481\n",
       "val_iou_natural_wetland               0.493314\n",
       "val_iou_natural_wood                  0.816014\n",
       "val_iou_quasi_natural_grow            0.593104\n",
       "val_iou_transport                     0.145871\n",
       "val_iou_water                         0.664867\n",
       "val_loss                              0.964465\n",
       "val_precision_UNLABELED               0.881722\n",
       "val_precision_buildings_territory     0.859973\n",
       "val_precision_mean                    0.695653\n",
       "val_precision_natural_ground          0.600394\n",
       "val_precision_natural_grow            0.466108\n",
       "val_precision_natural_wetland         0.645462\n",
       "val_precision_natural_wood            0.874642\n",
       "val_precision_quasi_natural_grow      0.666602\n",
       "val_precision_transport               0.405475\n",
       "val_precision_water                   0.860496\n",
       "val_recall_UNLABELED                  0.879076\n",
       "val_recall_buildings_territory        0.864754\n",
       "val_recall_mean                       0.628025\n",
       "val_recall_natural_ground             0.244014\n",
       "val_recall_natural_grow               0.289631\n",
       "val_recall_natural_wetland            0.676668\n",
       "val_recall_natural_wood               0.924091\n",
       "val_recall_quasi_natural_grow         0.843243\n",
       "val_recall_transport                  0.185559\n",
       "val_recall_water                      0.745190\n",
       "Name: 102, dtype: float64"
      ]
     },
     "execution_count": 2,
     "metadata": {},
     "output_type": "execute_result"
    }
   ],
   "source": [
    "path_to_metrics_csv = r'saving_dir\\dlv3_res50pr-P1L-100ep-9cl-150-ch_[0-12]\\version_0\\metrics.csv'\n",
    "full_results_df = pd.read_csv(path_to_metrics_csv)\n",
    "train_cols = [c for c in full_results_df.columns if 'train' in c]\n",
    "val_cols = [c for c in full_results_df.columns if 'val' in c]\n",
    "train_results_df = full_results_df[['epoch']+train_cols].dropna()\n",
    "val_results_df = full_results_df[['epoch']+val_cols].dropna()\n",
    "idx = val_results_df['val_iou_mean'].argmax()\n",
    "val_results_df.iloc[idx]"
   ]
  },
  {
   "attachments": {},
   "cell_type": "markdown",
   "metadata": {},
   "source": [
    "# проверка правильности работы метрик"
   ]
  },
  {
   "cell_type": "code",
   "execution_count": 12,
   "metadata": {},
   "outputs": [],
   "source": [
    "from sklearn.model_selection import train_test_split\n",
    "from sklearn import metrics\n",
    "\n",
    "import numpy as np\n",
    "\n",
    "def decode_confusion_matrix_2x2(confusion_matrix):\n",
    "    tp = confusion_matrix[1, 1]\n",
    "    tn = confusion_matrix[0, 0]\n",
    "    fp = confusion_matrix[0, 1]\n",
    "    fn = confusion_matrix[1, 0]\n",
    "    return {'tp':tp, 'tn': tn, 'fp': fp, 'fn': fn}\n",
    "\n",
    "def compute_accuracy_from_confusion(multiclass_confusion_matrix):\n",
    "    confusion_sum = multiclass_confusion_matrix.sum(axis=0)\n",
    "    tp, tn, fp, fn = decode_confusion_matrix_2x2(confusion_sum)\n",
    "    accuracy = 0\n",
    "    if tp+tn+fp+fn != 0:\n",
    "        accuracy = (tp+tn)/(tp+tn+fp+fn)\n",
    "    return accuracy\n",
    "\n",
    "def compute_metric_from_confusion(multiclass_confusion_matrix, metric_params_dict, idx2class_name_dict=None):\n",
    "    #print(f'metric_params_dict={metric_params_dict}')\n",
    "    mean_metric = 0\n",
    "    # {class_name: iou_val}\n",
    "    metric_dict = {}\n",
    "    actual_classes_num = 0\n",
    "    metric_name = metric_params_dict['name']\n",
    "    for idx, class_confusion in enumerate(multiclass_confusion_matrix):\n",
    "        #print(f'class_conf_shape={class_confusion}')\n",
    "        confusion_vals_dict = decode_confusion_matrix_2x2(class_confusion)\n",
    "        #print(f'confusion_vals_dict={confusion_vals_dict}')\n",
    "        #print(f'conf_sum={class_confusion.sum()};tn={confusion_vals_dict[\"tn\"]}')\n",
    "        if class_confusion.sum() != confusion_vals_dict['tn']:\n",
    "            actual_classes_num += 1\n",
    "\n",
    "        #print(f'actual_classes_num={actual_classes_num}')\n",
    "        class_metric = 0\n",
    "        numerator = [confusion_vals_dict[v] for v in metric_params_dict['numerator']]\n",
    "        denominator = [confusion_vals_dict[v] for v in metric_params_dict['denominator']]\n",
    "        #print(f'numerator={numerator}')\n",
    "        #print(f'denominator={denominator}')\n",
    "        if np.sum(denominator) != 0:\n",
    "            class_metric = np.sum(numerator)/np.sum(denominator)\n",
    "        mean_metric += class_metric\n",
    "        class_name = f'{metric_name}_{idx}'\n",
    "        if idx2class_name_dict is not None:\n",
    "            class_name = f'{metric_name}_{idx2class_name_dict[idx]}'\n",
    "        metric_dict[class_name] = class_metric\n",
    "    if actual_classes_num == 0:\n",
    "        metric_dict[f'{metric_name}_mean'] = 0\n",
    "    else:\n",
    "        metric_dict[f'{metric_name}_mean'] = mean_metric/actual_classes_num\n",
    "    return metric_dict\n"
   ]
  },
  {
   "cell_type": "code",
   "execution_count": 25,
   "metadata": {},
   "outputs": [
    {
     "data": {
      "text/plain": [
       "({'recall_0': np.float64(0.15393939393939393),\n",
       "  'recall_1': np.float64(0.15977653631284916),\n",
       "  'recall_2': np.float64(0.15063291139240506),\n",
       "  'recall_3': np.float64(0.16090584028605484),\n",
       "  'recall_4': np.float64(0.1592814371257485),\n",
       "  'recall_5': np.float64(0.16789215686274508),\n",
       "  'recall_mean': np.float64(0.15873804598653277)},\n",
       " array([0.15393939, 0.15977654, 0.15063291, 0.16090584, 0.15928144,\n",
       "        0.16789216]))"
      ]
     },
     "execution_count": 25,
     "metadata": {},
     "output_type": "execute_result"
    }
   ],
   "source": [
    "np.random.seed(0)\n",
    "class_num = 6\n",
    "pred_labels = np.random.randint(0, class_num, size=[5000])\n",
    "true_labels = np.random.randint(0, class_num, size=[5000])\n",
    "confusion = metrics.multilabel_confusion_matrix(true_labels.reshape(-1), pred_labels.reshape(-1))\n",
    "precision_results = metrics.precision_score(true_labels, pred_labels, average=None)\n",
    "precision_params_dict = {'name':'precision', 'numerator':['tp'], 'denominator': ['tp', 'fp']}\n",
    "precision_from_confusion = compute_metric_from_confusion(confusion,precision_params_dict,)\n",
    "\n",
    "recall_results = metrics.recall_score(true_labels, pred_labels, average=None)\n",
    "recall_params_dict = {'name':'recall', 'numerator':['tp'], 'denominator': ['tp', 'fn']}\n",
    "recall_from_confusion = compute_metric_from_confusion(confusion,recall_params_dict,)\n",
    "\n",
    "iou_results = metrics.jaccard_score(true_labels, pred_labels, average=None)\n",
    "iou_params_dict = {'name':'iou', 'numerator':['tp'], 'denominator': ['tp', 'fp', 'fn']}\n",
    "iou_from_confusion = compute_metric_from_confusion(confusion,iou_params_dict,)\n",
    "recall_from_confusion, recall_results"
   ]
  },
  {
   "cell_type": "code",
   "execution_count": null,
   "metadata": {},
   "outputs": [],
   "source": []
  }
 ],
 "metadata": {
  "kernelspec": {
   "display_name": "aggr_rec",
   "language": "python",
   "name": "python3"
  },
  "language_info": {
   "codemirror_mode": {
    "name": "ipython",
    "version": 3
   },
   "file_extension": ".py",
   "mimetype": "text/x-python",
   "name": "python",
   "nbconvert_exporter": "python",
   "pygments_lexer": "ipython3",
   "version": "3.10.13"
  },
  "orig_nbformat": 4
 },
 "nbformat": 4,
 "nbformat_minor": 2
}
